{
 "cells": [
  {
   "cell_type": "code",
   "execution_count": 1,
   "metadata": {},
   "outputs": [],
   "source": [
    "import pickle\n",
    "from sklearn.model_selection import train_test_split"
   ]
  },
  {
   "cell_type": "code",
   "execution_count": null,
   "metadata": {},
   "outputs": [],
   "source": []
  },
  {
   "cell_type": "code",
   "execution_count": 4,
   "metadata": {},
   "outputs": [
    {
     "data": {
      "text/plain": [
       "277"
      ]
     },
     "execution_count": 4,
     "metadata": {},
     "output_type": "execute_result"
    }
   ],
   "source": [
    "with open(\"../neuro_ix/datasets/midl\", \"rb\") as data_file:\n",
    "    train_set, test_set = pickle.load( data_file)\n",
    "len(train_set)\n",
    "rtrain_set, val_set = train_test_split(train_set, test_size=0.2)\n",
    "len(rtrain_set)"
   ]
  },
  {
   "cell_type": "code",
   "execution_count": 5,
   "metadata": {},
   "outputs": [],
   "source": [
    "with open(\"../neuro_ix/datasets/midl\", \"wb\") as data_file:\n",
    "    pickle.dump([rtrain_set, val_set, test_set], data_file)"
   ]
  },
  {
   "cell_type": "code",
   "execution_count": 6,
   "metadata": {},
   "outputs": [
    {
     "name": "stdout",
     "output_type": "stream",
     "text": [
      "277 70 89\n"
     ]
    }
   ],
   "source": [
    "with open(\"../neuro_ix/datasets/midl\", \"rb\") as data_file:\n",
    "   rtrain,rval, rtest= pickle.load( data_file)\n",
    "\n",
    "print(len(rtrain), len(rval), len(rtest))"
   ]
  }
 ],
 "metadata": {
  "kernelspec": {
   "display_name": "bowl",
   "language": "python",
   "name": "python3"
  },
  "language_info": {
   "codemirror_mode": {
    "name": "ipython",
    "version": 3
   },
   "file_extension": ".py",
   "mimetype": "text/x-python",
   "name": "python",
   "nbconvert_exporter": "python",
   "pygments_lexer": "ipython3",
   "version": "3.10.13"
  }
 },
 "nbformat": 4,
 "nbformat_minor": 2
}
